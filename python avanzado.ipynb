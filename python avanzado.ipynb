{
 "cells": [
  {
   "cell_type": "code",
   "execution_count": 3,
   "metadata": {},
   "outputs": [],
   "source": [
    "import numpy as np"
   ]
  },
  {
   "cell_type": "code",
   "execution_count": 4,
   "metadata": {},
   "outputs": [
    {
     "name": "stdout",
     "output_type": "stream",
     "text": [
      "0 121\n",
      "1 122\n",
      "2 399\n",
      "121 A\n",
      "122 B\n",
      "399\n",
      "122\n",
      "121\n"
     ]
    }
   ],
   "source": [
    "\n",
    "numbers = np.array([121,122,399])\n",
    "letters = np.array([\"A\",\"B\"])\n",
    "\n",
    "# enumerate: obtiene indice y valor\n",
    "for index, value in enumerate(numbers):\n",
    "    print(index,value)\n",
    "\n",
    "# zip: itera en 2 lista a la vez\n",
    "for v1, v2 in zip(numbers,letters):\n",
    "    print(v1,v2)\n",
    "\n",
    "# reversed: iterar una lista al reves\n",
    "for v in reversed(numbers):\n",
    "    print(v)\n"
   ]
  },
  {
   "cell_type": "code",
   "execution_count": 5,
   "metadata": {},
   "outputs": [
    {
     "name": "stdout",
     "output_type": "stream",
     "text": [
      "3 -1\n",
      "1\n",
      "3\n",
      "5\n",
      "7\n",
      "9\n",
      "1\n",
      "3\n",
      "5\n",
      "7\n",
      "9\n"
     ]
    }
   ],
   "source": [
    "# funcion puede devolver mas de un valor\n",
    "\n",
    "def multiple(a,b):\n",
    "    return a+b, a-b\n",
    "\n",
    "x1,x2 = multiple(1,2)\n",
    "print(x1,x2)\n",
    "\n",
    "#funciones anonimas\n",
    "multBy2 = lambda x: 2*x\n",
    "multBy2(2)\n",
    "\n",
    "sum = lambda x,y: x*y\n",
    "sum(2,3)\n",
    "\n",
    "\n",
    "\n",
    "# yield: sigue devolviendo los valores y los almacena en una lista\n",
    "def func():\n",
    "    for i in range(10):\n",
    "        if i%2:\n",
    "            yield i\n",
    "\n",
    "gen = func()\n",
    "for i in gen:\n",
    "    print(i)\n",
    "\n",
    "gen = (i for i in range(10)  if i % 2)\n",
    "for i in gen:\n",
    "    print(i)\n",
    "\n"
   ]
  },
  {
   "cell_type": "markdown",
   "metadata": {},
   "source": [
    "1. Cada dimensión se denomina **_axis_**\n",
    "2. El número de dimensiones se denomina **_rank_**\n",
    "3. La lista de dimensiones con su correspondiente longitud se denomina **_shape_**\n",
    "4. El número total de elementos se denomina **_size_**"
   ]
  },
  {
   "cell_type": "code",
   "execution_count": 6,
   "metadata": {},
   "outputs": [
    {
     "data": {
      "text/plain": [
       "array([[[8, 8, 8, 8],\n",
       "        [8, 8, 8, 8],\n",
       "        [8, 8, 8, 8]],\n",
       "\n",
       "       [[8, 8, 8, 8],\n",
       "        [8, 8, 8, 8],\n",
       "        [8, 8, 8, 8]]])"
      ]
     },
     "execution_count": 6,
     "metadata": {},
     "output_type": "execute_result"
    }
   ],
   "source": [
    "a = np.zeros((2,4))\n",
    "a \n",
    "# 2 axis -> Longitud 2 y Longitud 4\n",
    "# rank   -> 2\n",
    "# shape  -> (2,4) \n",
    "# size   -> 8\n",
    "a.shape\n",
    "a.ndim\n",
    "a.size\n",
    "\n",
    "b = np.zeros((1,3,5))\n",
    "b\n",
    "\n",
    "c = np.ones((2,3,4))\n",
    "c\n",
    "\n",
    "d = np.full((2,3,4),8)\n",
    "d"
   ]
  },
  {
   "cell_type": "code",
   "execution_count": 7,
   "metadata": {},
   "outputs": [
    {
     "data": {
      "text/plain": [
       "array([0.        , 0.66666667, 1.33333333, 2.        , 2.66666667,\n",
       "       3.33333333, 4.        , 4.66666667, 5.33333333, 6.        ])"
      ]
     },
     "execution_count": 7,
     "metadata": {},
     "output_type": "execute_result"
    }
   ],
   "source": [
    "e = np.array([[1,2,3],[1,2,3]])\n",
    "e.ndim\n",
    "\n",
    "f = np.linspace(0,6,10) # 10 elementos del 0 al 6 proporcionales\n",
    "f"
   ]
  },
  {
   "cell_type": "code",
   "execution_count": 11,
   "metadata": {},
   "outputs": [
    {
     "name": "stdout",
     "output_type": "stream",
     "text": [
      "(6,)\n",
      "[1 2 3 4 5 6]\n",
      "1\n",
      "[3 4]\n",
      "[1 3 5]\n"
     ]
    }
   ],
   "source": [
    "array_uni = np.array([1,2,3,4,5,6])\n",
    "print(array_uni.shape)\n",
    "print(array_uni)\n",
    "type(array_uni)\n",
    "\n",
    "print(array_uni[0])\n",
    "print(array_uni[2:4])\n",
    "print(array_uni[0::2])\n"
   ]
  },
  {
   "cell_type": "code",
   "execution_count": 9,
   "metadata": {},
   "outputs": [
    {
     "name": "stdout",
     "output_type": "stream",
     "text": [
      "(2, 3)\n",
      "6\n",
      "3\n",
      "[1 2 3]\n",
      "[4 5 6]\n",
      "[1 4]\n",
      "[2 5]\n",
      "[3 6]\n",
      "[3 6]\n",
      "[2 5]\n",
      "[1 4]\n"
     ]
    }
   ],
   "source": [
    "array_multi = np.array([[1,2,3],[4,5,6]])\n",
    "print(array_multi.shape)\n",
    "\n",
    "# Las filas y columnas comienzan del índice cero\n",
    "\n",
    "print(array_multi[1,2]) \n",
    "print(array_multi[0,2])\n",
    "\n",
    "print(array_multi[0,:])\n",
    "print(array_multi[1,:])\n",
    "print(array_multi[:,0])\n",
    "print(array_multi[:,1])\n",
    "print(array_multi[:,2])\n",
    "\n",
    "print(array_multi[0:2,2])\n",
    "print(array_multi[0:2,1])\n",
    "print(array_multi[0:2,0])\n"
   ]
  },
  {
   "cell_type": "code",
   "execution_count": 15,
   "metadata": {},
   "outputs": [
    {
     "name": "stdout",
     "output_type": "stream",
     "text": [
      "[[ 0  1  2  3]\n",
      " [ 4  5  6  7]\n",
      " [ 8  9 10 11]\n",
      " [12 13 14 15]\n",
      " [16 17 18 19]\n",
      " [20 21 22 23]\n",
      " [24 25 26 27]]\n",
      "----------------\n",
      "[[ 0]\n",
      " [ 1]\n",
      " [ 2]\n",
      " [ 3]\n",
      " [ 4]\n",
      " [ 5]\n",
      " [ 6]\n",
      " [ 7]\n",
      " [ 8]\n",
      " [ 9]\n",
      " [10]\n",
      " [11]\n",
      " [12]\n",
      " [13]\n",
      " [14]\n",
      " [15]\n",
      " [16]\n",
      " [17]\n",
      " [18]\n",
      " [19]\n",
      " [20]\n",
      " [21]\n",
      " [22]\n",
      " [23]\n",
      " [24]\n",
      " [25]\n",
      " [26]\n",
      " [27]]\n",
      "----------------\n",
      "[[[ 0  1  2  3  4  5  6  7  8  9 10 11 12 13]]\n",
      "\n",
      " [[14 15 16 17 18 19 20 21 22 23 24 25 26 27]]]\n",
      "----------------\n",
      "[[ 0  1]\n",
      " [ 2  3]\n",
      " [ 4  5]\n",
      " [ 6  7]\n",
      " [ 8  9]\n",
      " [10 11]\n",
      " [12 13]\n",
      " [14 15]\n",
      " [16 17]\n",
      " [18 19]\n",
      " [20 21]\n",
      " [22 23]\n",
      " [24 25]\n",
      " [26 27]]\n"
     ]
    }
   ],
   "source": [
    "reshape_array = np.arange(28)\n",
    "reshape_array\n",
    "print(reshape_array.reshape((7,4)))\n",
    "print(\"----------------\")\n",
    "print(reshape_array.reshape((28,1)))\n",
    "print(\"----------------\")\n",
    "print(reshape_array.reshape((2,1,14)))\n",
    "print(\"----------------\")\n",
    "print(reshape_array.reshape((14,2)))\n",
    "\n",
    "\n"
   ]
  }
 ],
 "metadata": {
  "kernelspec": {
   "display_name": "Python 3",
   "language": "python",
   "name": "python3"
  },
  "language_info": {
   "codemirror_mode": {
    "name": "ipython",
    "version": 3
   },
   "file_extension": ".py",
   "mimetype": "text/x-python",
   "name": "python",
   "nbconvert_exporter": "python",
   "pygments_lexer": "ipython3",
   "version": "3.12.3"
  }
 },
 "nbformat": 4,
 "nbformat_minor": 2
}
